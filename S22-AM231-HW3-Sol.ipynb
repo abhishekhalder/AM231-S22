{
  "metadata": {
    "language_info": {
      "codemirror_mode": {
        "name": "python",
        "version": 3
      },
      "file_extension": ".py",
      "mimetype": "text/x-python",
      "name": "python",
      "nbconvert_exporter": "python",
      "pygments_lexer": "ipython3",
      "version": "3.8"
    },
    "kernelspec": {
      "name": "python",
      "display_name": "Pyolite",
      "language": "python"
    }
  },
  "nbformat_minor": 4,
  "nbformat": 4,
  "cells": [
    {
      "cell_type": "markdown",
      "source": "# Problem 1. [50 points] Lyapunov techniques for estimating ROA\n\nConsider the following nonlinear system with state vector $(x_1,x_2)\\in\\mathbb{R}^{2}$, given by\n$$\\dot{x}_{1} = x_{2}, \\quad \\dot{x}_{2} = -x_{1} - x_{2} + x_{1}^{3}.$$",
      "metadata": {}
    },
    {
      "cell_type": "markdown",
      "source": "## (a) [10 points] Fixed points\nFind all isolated fixed points. Show all your calculations.\n\n## Solution for Prob 1(a):\nA fixed point $(x_1^{*},x_2^{*})$, by definition satisfies $\\dot{x}_1^* = 0, \\dot{x}_2^* = 0$, which gives $x_2^{*}=0$, and $x_{1}^{*}\\left(\\left(x_{1}^*\\right)^2 - 1\\right)=0 \\Rightarrow x_{1}^{*}=0,\\pm 1$. Therefore, we have three fixed points:\n$$(x_1^*,x_2^*) = (-1,0), \\quad (0,0), \\quad (+1,0).$$",
      "metadata": {}
    },
    {
      "cell_type": "markdown",
      "source": "## (b) [10 + 10 = 20 points] Origin is AS\n\n(i) Using the Lyapunov function $V(x_1,x_2)= \\frac{1}{2}x_{2}^{2} + \\int_{0}^{x_{1}}(y-y^3){\\rm{d}}y$, **prove that** the origin is AS. You may need to use the LaSalle invariance.\n\n(ii) **Make a 3d surface plot** of the above Lyapunov function $V$ over the domain $[-2,2]^{2}$ along with the contour/level set plots of $V$ in the plane over the same domain. It will be helpful to make the surface plot somewhat transparent.\n\n## Solution for Prob 1(b):\n\n(i) The given function $V(x_1,x_2) = \\frac{1}{2}x_{2}^2 + \\frac{1}{2}x_1^2 - \\frac{1}{4}x_1^4$ is positive definite in the region $|x_1| < \\sqrt{2}$ (this follows by setting $\\frac{1}{2}x_1^2 - \\frac{1}{4}x_1^4 > 0$). On the other hand, we have $\\dot{V} = -x_2^2 \\leq 0$, which guarantees stability but not necessarily A.S. for the origin. We notice that $\\dot{V}=0 \\Rightarrow x_{2}(t)\\equiv 0 \\Rightarrow x_{1}(t) - (x_{1}(t))^3 \\equiv 0$. Thus for $|x_1| < 1$, we can invoke LaSalle invariance theorem to conclude that the origin is (locally) A.S. in $\\mathcal{D} := \\{(x_1,x_2)\\in\\mathbb{R}^{2} : |x_1| < 1\\}$.\n\n(ii) A surface plot of the Lyapunov function $V(x_1,x_2)$ over $[-2,2]^2$ is shown below, together with its contour plots over the same domain. The function $V$ becomes negative for $|\\sqrt{x_{1}}| > \\sqrt{2}$.\n<img src=\"HW3p1LyapunovFunction.png\" width=\"500\">",
      "metadata": {}
    },
    {
      "cell_type": "markdown",
      "source": "## (c) [15 + 5 = 20 points] ROA estimation\n\n(i) Use the Lyapunov function in part (b) to **estimate the ROA for the origin**.\n\n(ii) **Make a 2d plot of your estimated ROA** in the state space.\n\n## Solution for Prob 1(c):\n\n(i) We seek an estimate for the ROA of the form $\\Omega_c = \\{(x_1,x_2)\\in\\mathbb{R}^2 : V(x_1,x_2) \\leq c\\}$, where an upper bound for the level $c>0$ needs to be determined such that $\\Omega_c$ is compact, positively invariant, and $\\Omega_c \\subset \\mathcal{D}$. In this case, positive invariance condition is subsumed by compactness and $\\Omega_c \\in \\mathcal{D}$ conditions.\n\nFor our choice of $V$, the condition $\\Omega_c \\in \\mathcal{D}$ is satisfied for $0<c < 1/4$. To show this explicitly, consider the level set\n$$V(x_1,x_2) = c \\quad\\Leftrightarrow\\quad \\frac{1}{2}x_{2}^2 + \\frac{1}{2}x_1^2 - \\frac{1}{4}x_1^4 = c.$$\nSince $x_2^2 \\geq 0$, hence the above tells us\n$$\\frac{1}{2}\\left(x_1^2\\right)^2 - x_1^2 + 2c \\geq 0 \\quad \\Leftrightarrow \\quad (x_1^2 - 1)^2 + (4c-1)\\geq 0.$$\nTo have $\\Omega_c \\subset \\mathcal{D}$, we need $|x_1| < 1 \\rightarrow x_1^2 - 1 < 0$, which combined with the above inequality yields\n$$0>x_{1}^2 - 1 \\geq -\\sqrt{1-4c},\\quad\\text{and}\\quad1-4c>0;$$\nthe latter solved for $c>0$ gives the bound $0<c < 1/4$. For such choices of $c$, the level set with boundary $V(x_1,x_2)=c$ is guaranteed to be within $\\mathcal{D}$ (hence bounded) and closed (since $V$ is positive definite there), therefore compact.\n\n(ii) The following 2D plot shows 23 contours (solid black lines for positive $c$, dashed black lines for negative $c$) of the function $V(x_1,x_2)$, superimposed with the given vector field. Blue (red) color denotes region where $V$ is $> 0$ ($< 0$). The open set $\\mathcal{D}$ is the infinite vertical strip strictly inside the dashed green lines $x_1 = \\pm 1$. Our inner estimate for the region of attraction is $\\{(x_1,x_2)\\in\\mathbb{R}^2 : V(x_1,x_2) \\leq c\\}$ where $0<c < 1/4$ (the \"eye-shaped\" set inside $\\mathcal{D}$).\n<img src=\"HW3p1LevelSets.png\">",
      "metadata": {}
    },
    {
      "cell_type": "markdown",
      "source": "# Problem 2. [50 points] Lyapunov stability for continuous time LTI system\n\nConsider the LTI system $\\dot{x}=Ax$ where $x\\in\\mathbb{R}^{n}$. Recall that the origin is GAS if and only if the matrix $A$ is Hurwitz (i.e., all its eigenvalues lie in the open left-half of the complex plane). In this exercise, we revisit the LTI stability from the Lyapunov viewpoint.",
      "metadata": {}
    },
    {
      "cell_type": "markdown",
      "source": "## (a) [10 + 10 = 20 points] Lyapunov matrix inequality and equation\n\n(i) Use the Lyapunov function $V(x) = x^{\\top}Px$ to **prove that** the LTI system is GAS provided the following two matrix inequalities are simultaneously satisfied:\n$$P \\succ 0, \\quad \\mathcal{L}(P):=A^{\\top}P + PA \\prec 0.$$\nThe latter inequality is called the \"Lyapunov matrix inequality\".\n\n(ii) **Argue that** the condition $\\mathcal{L}(P) \\prec 0$ is equivalent to the statement: for any $Q \\succ 0$, there exists $P \\succ 0$ that solves the linear matrix equation $\\mathcal{L}(P) = -Q$. This equation is called the \"Lyapunov matrix equation\".\n\n## Solution for Prob 2(a):\n\n(i) For any $P \\succ 0$, the function $V$ is a positive definite function (from the definition of a positive definite matrix). Also, $V$ is radially unbounded because $\\displaystyle\\lim _{r \\rightarrow \\infty} x^{\\top}Px=\\displaystyle\\lim _{r \\rightarrow \\infty} \\operatorname{trace}\\left(\\left(x x^{\\top}\\right) P\\right)=\\operatorname{trace}\\left(\\left(\\displaystyle\\lim _{r \\rightarrow \\infty}\\left(x x^{\\top}\\right)\\right) P\\right)=\\infty$. Now,\n$$\\dot{V}=\\langle\\nabla V, A x\\rangle=(2 P x)^{\\top} A x=2 x^{\\top} P A x=x^{\\top}\\left(A^{\\top} P+P A\\right)x,$$\nwhere the last step follows from the fact that a scalar (in this case $x^{\\top}PAx$) must be equal to its own transpose. (Alternatively, you can use product rule of derivative w.r.t. $t$). From the Barbashin-Krasovskii theorem, GAS is guaranteed provided we can show $\\dot{V} < 0$ for all $x\\neq 0$. In our case, $\\dot{V} = x^{\\top}\\mathcal{L}(P)x < 0$ for all $x\\neq 0$ iff $\\mathcal{L}(P) \\prec 0$. Hence the statement. \n\n(ii) The negative of a positive definite matrix is negative definite, i.e., $Q \\succ 0 \\Leftrightarrow -Q \\prec 0$. Therefore, $\\mathcal{L}(P)\\prec 0 \\Leftrightarrow \\mathcal{L}(P) = -Q$ for $Q \\succ 0$.",
      "metadata": {}
    },
    {
      "cell_type": "markdown",
      "source": "## (b) [10 + 10 = 20 points] $A$ Hurwitz $\\Rightarrow$ Unique solution for Lyapunov matrix equation\n\nYou have shown in part (a) that existence of solution for the Lyapunov matrix equation (equivalently, Lyapunov matrix inequality) $\\Rightarrow$ GAS $\\Leftrightarrow$ $A$ Hurwitz. **Now prove the converse:** if $A$ is Hurwitz then for any $Q\\succ 0$, there exists **unique** $P\\succ 0$ that solves $\\mathcal{L}(P)=-Q$.\n\n(**Hint:** prove existence by construction. Prove uniqueness by contradiction.)\n\n## Solution for Prob 2(b):\n\n**(Existence)** Let us consider the ansatz\n$$P=\\int_{0}^{\\infty} e^{A^{\\top} t} Q e^{A t} \\mathrm{d} t.$$\nSince $A$ is Hurwitz, the above integral converges. Since $Q\\succ 0$ and $e^{At}$ is nonsingular, hence $P \\succ 0$. Now \n\n$$\\begin{aligned}\n\\mathcal{L}(P)=A^{\\top} P+P A=\\int_{0}^{\\infty}\\left(A^{\\top} e^{A^{\\top} t} Q e^{A t}+e^{A^{\\top} t} Q e^{A t} A\\right) \\mathrm{d} t &=\\int_{0}^{\\infty} \\frac{\\mathrm{d}}{\\mathrm{d} t}\\left(e^{A^{\\top} t} Q e^{A t}\\right) \\mathrm{d} t \\\\\n&=\\left(\\lim _{t \\rightarrow \\infty} e^{A^{\\top} t} Q e^{A t}\\right)-Q=-Q\n\\end{aligned}$$\n\nwhere we used that for $A$ Hurwitz, we have $\\displaystyle\\lim _{t \\rightarrow \\infty} e^{A^{\\top} t} Q e^{A t}=0$. Since our ansatz $P \\succ 0$ satisfies $\\mathcal{L}(P) \\prec 0$ for any $Q \\succ 0$, hence existence is guaranteed.\n\n**(Uniqueness)** If possible, let us assume that the matrix equation $\\mathcal{L}(P)=-Q$ admits two distinct solutions $P_1,P_2 \\succ 0$, $P_1\\neq P_2$, for any given $Q\\succ 0$. This implies\n\n$$\\mathcal{L}\\left(P_{1}\\right)-\\mathcal{L}\\left(P_{2}\\right)=A^{\\top}\\left(P_{1}-P_{2}\\right)+\\left(P_{1}-P_{2}\\right) A=0.$$\n\nPre-multiplying the above by $e^{A^{\\top}t}$ and post-multiplying by $e^{At}$, we get\n\n$$e^{A^{\\top} t}\\left(A^{\\top}\\left(P_{1}-P_{2}\\right)+\\left(P_{1}-P_{2}\\right) A\\right) e^{A t}=\\frac{\\mathrm{d}}{\\mathrm{d} t}\\left(e^{A^{\\top} t}\\left(P_{1}-P_{2}\\right) e^{A t}\\right)=0 \\Leftrightarrow e^{A^{\\top} t}\\left(P_{1}-P_{2}\\right) e^{A t}=M,$$\n\nwhere the matrix $M$ does not depend on time $t$. Since the above must hold for all $t\\ge 0$, evaluating the same at the limit $t\\rightarrow\\infty$ gives $M=0$ (again here we used the fact that $A$ is Hurwitz). On the other hand, at $t=0$, we get $P_1 - P_2 = M = 0$, which contradicts our hypothesis that $P_1 \\neq P_2$. Therefore, if $A$ is Hurwitz, and a solution $P\\succ 0$ exists for $\\mathcal{L}(P)=-Q$, it must be unique.",
      "metadata": {}
    },
    {
      "cell_type": "markdown",
      "source": "## (c) [10 points] Monotonicity of the solution of Lyapunov matrix equation\n\nFor an LTI system with $A$ Hurwitz, **prove that** if $Q_1 \\succ Q_2$ then $P_1 \\succ P_2$. (The converse is false but you don't need to prove that).\n\n## Solution for Prob 2(c):\n\nWe have $A^{\\top} P_{1}+P_{1} A=-Q_{1}$ and $A^{\\top} P_{2}+P_{2} A=-Q_{2}$. Now $Q_1 \\succ Q_2 \\succ 0$ implies\n\n$$e^{A^{\\top} t} Q_{1} e^{A t} \\succ e^{A^{\\top} t} Q_{2} e^{A t} \\Rightarrow \\int_{0}^{\\infty} e^{A^{\\top} t} Q_{1} e^{A t} \\mathrm{d} t \\succ \\int_{0}^{\\infty} e^{A^{\\top} t} Q_{2} e^{A t} \\mathrm{d} t \\Leftrightarrow P_{1} \\succ P_{2}.$$\n\nThis completes the proof.",
      "metadata": {}
    }
  ]
}