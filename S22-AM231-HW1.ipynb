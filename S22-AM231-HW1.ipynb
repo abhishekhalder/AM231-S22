{
 "cells": [
  {
   "cell_type": "markdown",
   "metadata": {},
   "source": [
    "# Problem 1 [50 points] Computer-controlled continuous-time LTI system\n",
    "\n",
    "Consider a continuous-time linear time invariant (LTI) system \n",
    "\n",
    "$$\\dot{x} = A x + B u, \\quad x\\in\\mathbb{R}^{n},\\quad u\\in\\mathbb{R}^{m}, \\quad x(t=0)=x_{0},$$\n",
    "\n",
    "where a digital computer supplies the control signal $u(t)$ with sampling period $h>0$. Consequently, \n",
    "\n",
    "$$u(t) \\equiv u(k) := u(t=kh)\\quad\\forall t\\in[kh,(k+1)h), \\quad k=0,1,2,...$$\n",
    "\n",
    "This makes the control input $u$ a piecewise constant function of the time $t$."
   ]
  },
  {
   "cell_type": "markdown",
   "metadata": {},
   "source": [
    "## (a) [20 points] Equivalent discrete-time LTI system\n",
    "\n",
    "**Prove that** the control system above is equivalent to a discrete-time LTI system of the form\n",
    "\n",
    "$$x(k+1) = A_{\\rm{d}} x(k) + B_{\\rm{d}} u(k), \\quad x(k) = x_{0}, \\quad k=0,1,2,...$$\n",
    "\n",
    "In other words, derive the matrices $A_{\\rm{d}}\\in\\mathbb{R}^{n\\times n}, B_{\\rm{d}}\\in\\mathbb{R}^{n\\times m}$ as function of the original system matrices $A,B$ and the sampling period $h>0$.\n",
    "\n",
    "(**Hint:** The solution of the ODE $\\dot{x}=Ax+Bu$ with initial condition $x(t=0)=x_{0}$, is $x(t) = e^{At}x_{0} + \\int_{0}^{t}e^{A(t-\\tau)}B u(\\tau){\\rm{d}}\\tau$. Then use the fact that $x(k):=x(t=kh)$ etc.)"
   ]
  },
  {
   "cell_type": "markdown",
   "metadata": {},
   "source": [
    "## (b) [30 points] Stability of the unforced system\n",
    "\n",
    "Suppose that the input $u(t)\\equiv 0$ for all $t\\geq 0$, and that the matrix $A$ is diagonalizable and Hurwitz (all eigenvalues in the open left half plane). From Lec. 1, p. 6, this implies that the original unforced system $\\dot{x}=Ax$ is continuous-time S/AS/GAS. \n",
    "\n",
    "Does this also imply that the sampled unforced system $x(k+1) = A_{\\rm{d}} x(k)$ is discrete-time S/AS/GAS? **Use your answer in part (a) to give mathematical reasoning to support your answer**."
   ]
  },
  {
   "cell_type": "markdown",
   "metadata": {},
   "source": [
    "# Problem 2 [50 points] Lyapunov analysis in discrete-time\n",
    "\n",
    "For discrete-time autonomous nonlinear system $x(k+1)=f(x(k))$, $k=0,1,2,...$, one can derive a Lyapunov stability theorem analogous to the continuous-time case, by simply replacing the condition $\\dot{V}<$ (or $\\leq$) $0$ to its discrete-time counterpart: $V(k+1)<$ (or $\\leq$) $V(k)$, where $V(k):=V(x(k))$, while keeping the other conditions (positive definiteness/semi-definiteness) same. With this modification, related theorems such as Barbashin-Krasovskii and LaSalle apply.\n",
    "\n",
    "Consider the following 2D nonlinear system\n",
    "\n",
    "$$x_{1}(k+1) = \\dfrac{\\alpha x_{2}(k)}{1 + \\left(x_{1}(k)\\right)^{2}}, \\qquad x_{2}(k+1) = \\dfrac{\\beta x_{1}(k)}{1 + \\left(x_{2}(k)\\right)^{2}}, \\qquad 0< \\alpha^2 < 1, \\quad 0 < \\beta^2 < 1.$$"
   ]
  },
  {
   "cell_type": "markdown",
   "metadata": {},
   "source": [
    "## (a) [5 + 15 = 20 points] Fixed point\n",
    "\n",
    "(i) **Prove that** origin is a fixed point. \n",
    "\n",
    "(ii) **Prove that** origin is in fact the **unique** fixed point."
   ]
  },
  {
   "cell_type": "markdown",
   "metadata": {},
   "source": [
    "## (b) [20 points] AS\n",
    "\n",
    "**Prove that** the origin is asymptotically stable (AS)."
   ]
  },
  {
   "cell_type": "markdown",
   "metadata": {},
   "source": [
    "## (c) [10 points] GAS\n",
    "\n",
    "Is the origin globally asymptotically stable (GAS)? **Why/why not?**"
   ]
  }
 ],
 "metadata": {
  "kernelspec": {
   "display_name": "Python 2",
   "language": "python",
   "name": "python2"
  },
  "language_info": {
   "codemirror_mode": {
    "name": "ipython",
    "version": 2
   },
   "file_extension": ".py",
   "mimetype": "text/x-python",
   "name": "python",
   "nbconvert_exporter": "python",
   "pygments_lexer": "ipython2",
   "version": "2.7.18"
  }
 },
 "nbformat": 4,
 "nbformat_minor": 2
}
