{
  "metadata": {
    "language_info": {
      "codemirror_mode": {
        "name": "python",
        "version": 3
      },
      "file_extension": ".py",
      "mimetype": "text/x-python",
      "name": "python",
      "nbconvert_exporter": "python",
      "pygments_lexer": "ipython3",
      "version": "3.8"
    },
    "kernelspec": {
      "name": "python",
      "display_name": "Pyolite",
      "language": "python"
    }
  },
  "nbformat_minor": 4,
  "nbformat": 4,
  "cells": [
    {
      "cell_type": "markdown",
      "source": "# Problem 1 [40 points] Lyapunov stability for a non-autonomous nonlinear system\n\nConsider the continuous-time non-autonomous system\n\n$$\\begin{align*}\n\\dot{x}_{1} &= -x_{1} - g(t)x_{2},\\\\\n\\dot{x}_{2} &= x_{1} - x_{2},\n\\end{align*}\n$$\n\nwhere the state vector $(x_1,x_2)^{\\top}\\in\\mathbb{R}^{2}$. The function $g(t)$ is $C^{1}$ in time $t$, satisfies $0 \\leq g(t) \\leq k$ for some constant $k$, and $\\dot{g}(t) \\leq g(t)$ for all $t\\geq 0$.",
      "metadata": {}
    },
    {
      "cell_type": "markdown",
      "source": "## (a) [10 points] Fixed point\n\n**Prove that** the origin $(0,0)^{\\top}$ is a fixed point. \n\n## Solution for Prob. 1(a)\nBy direct substitution, we verify that $(0,0)$ is a fixed point for all $t\\geq 0$.",
      "metadata": {}
    },
    {
      "cell_type": "markdown",
      "source": "## (b) [30 points] Origin is GES\n\nUse the Lyapunov function $V(t,x_1,x_2) := x_1^2 + (1 + g(t))x_2^2$ to **prove that** the origin is globally exponentially stable (GES).\n\n(**Hint:** Lec. 5, p. 3).\n\n## Solution for Prob. 1(b)\nSince $k\\geq g(t)\\geq 0$ for all $t\\geq 0$, we have $V=0$ for $(x_1,x_2)=(0,0)$, and $V>0$ otherwise. Therefore, $V$ is a positive definite function satisfying\n$$x_1^2 + x_2^2 \\leq V(t,x_1,x_2) \\leq (1+k)\\left(x_1^2 + x_2^2\\right) \\qquad \\forall t\\geq 0, \\quad \\forall (x_1,x_2)\\in\\mathbb{R}^{2}.$$\nFurthermore,\n\\begin{align*}\n\\dot{V} &= \\dfrac{\\partial V}{\\partial t} + \\dfrac{\\partial V}{\\partial x_1}\\left(-x_1 - g(t) x_2\\right) + \\dfrac{\\partial V}{\\partial x_2}\\left(x_1 - x_2\\right) \\\\\n&= \\dot{g}(t)x_2^2 -2x_1^2 -2x_2^2 + 2x_1x_2 - 2g(t)x_2^2\\\\\n&\\stackrel{(\\text{since}\\;\\dot{g}\\leq g)}{\\leq}-2x_1^2-(2+g(t))x_2^2 + 2x_1x_2 = \\left(-x_1^2 -(1+g(t))x_2^2\\right) - (x_1 - x_2)^2 \\\\\n&\\leq  -\\left(x_1^2 +(1+g(t))x_2^2\\right) \\leq - \\left(x_1^2 +(1+k)x_2^2\\right) \\leq - \\left(x_1^2 + x_2^2\\right) \\qquad \\forall (x_1,x_2)\\in\\mathbb{R}^{2}.\n\\end{align*}\nTherefore, by Lec. 5, p. 3 bottom (please note that the second inequality there had a typo: $k_3$ must have a negative sign in front since that inequality $2^{\\prime\\prime}$ is a special case of inequality $2^{\\prime}$ in the page before), we conclude that the origin is GES.",
      "metadata": {}
    },
    {
      "cell_type": "markdown",
      "source": "# Problem 2 [60 points] Lyapunov stability for a rotating rigid spacecraft\n\nThe controlled dynamics for a rotating rigid spacecraft is given by the Euler equation\n\n\\begin{align*}\nJ_{1}\\dot{\\omega}_{1} = \\left(J_{2} - J_{3}\\right)\\omega_{2}\\omega_{3} + \\tau_{1},\\\\\n    J_{2}\\dot{\\omega}_{1} = \\left(J_{3} - J_{1}\\right)\\omega_{3}\\omega_{1} + \\tau_{2},\\\\\n    J_{3}\\dot{\\omega}_{3} = \\left(J_{1} - J_{2}\\right)\\omega_{1}\\omega_{2} + \\tau_{3},\n\\end{align*}\nwhere the parameters $J_1,J_2,J_3>0$ denote the principal moments of inertia; the state vector $(\\omega_1,\\omega_2,\\omega_3)^{\\top}\\in\\mathbb{R}^{3}$ denotes the spacecraft’s angular velocity (in rad/s) along its principal axes; and the control vector $(\\tau_1,\\tau_2,\\tau_3)^{\\top}$ denotes the torque input applied about the principal axes.",
      "metadata": {}
    },
    {
      "cell_type": "markdown",
      "source": "## (a) [2 + (2 + 6) = 10 points] Fixed points in the absence of control\n\nSuppose that the controls $\\tau_1 = \\tau_2 = \\tau_3 \\equiv 0$.\n\n(i) **Argue that** origin is a fixed point.\n\n(ii) **How many fixed points other than origin** are there? **Explain what physical motions** do these non-origin fixed points correspnd to?\n\n## Solution for Prob. 2(a)\n(i) The origin is a fixed point since the substitution $\\omega_1=\\omega_2=\\omega_3=0$ satisifies the fixed point equations $\\dot{\\omega}_i = 0$ for $i=1,2,3$.\n\n(ii) Solving the fixed point equations $\\dot{\\omega}_1 = \\dot{\\omega}_2 = \\dot{\\omega}_3 = 0$ yields\n\\begin{align*}\n\\omega_1^{*}=\\omega_2^{*}=0,\\omega_3^{*}=\\Omega_3\\;\\text{(arbitrary real constant)};\\\\\n\\omega_2^{*}=\\omega_3^{*}=0,\\omega_1^{*}=\\Omega_1\\;\\text{(arbitrary real constant)};\\\\\n\\omega_3^{*}=\\omega_1^{*}=0,\\omega_2^{*}=\\Omega_2\\;\\text{(arbitrary real constant)}.\n\\end{align*}\nThus there are **infinite number of fixed points other than the origin**.\n\nThe **physical motion** corresponding to each of these (non-origin) fixed point is spinning about one principal axis at a constant rate. Since the constants $\\Omega_1,\\Omega_2,\\Omega_3$ can be positive or negative, the spinning could be clockwise or counter-clockwise about that axis.",
      "metadata": {}
    },
    {
      "cell_type": "markdown",
      "source": "## (b) [(10 + 5) + 10 = 25] S/AS in the absence of control\n\nAs in part (a), assume that the controls $\\tau_1 = \\tau_2 = \\tau_3 \\equiv 0$.\n\n(i) By constructing a suitable Lyapunov function, **prove that** the origin is stable (S). From this analysis, **what can you conclude** about the asymptotic stability (AS) of the origin?\n\n(ii) Given initial conditions $(\\omega_{10},\\omega_{20},\\omega_{30})^{\\top}$ and parameters $J_1 \\neq J_2 \\neq J_3$, it is possible to explicitly solve for the flow (still assuming $\\tau_1 = \\tau_2 = \\tau_3 = 0$) as\n\\begin{align*}\n\\omega_1(t) = \\overline{\\omega}_{10} \\mathrm{cn}\\left(\\omega_{p}t + \\varepsilon, m\\right),\\\\\n\\omega_2(t) = \\overline{\\omega}_{20} \\mathrm{sn}\\left(\\omega_{p}t + \\varepsilon, m\\right),\\\\\n\\omega_3(t) = \\overline{\\omega}_{30} \\mathrm{dn}\\left(\\omega_{p}t + \\varepsilon, m\\right),\n\\end{align*}\nwhere $\\overline{\\omega}_{10},\\overline{\\omega}_{20},\\overline{\\omega}_{30},\\omega_{p},\\varepsilon,m$ depend only on $(\\omega_{10},\\omega_{20},\\omega_{30})^{\\top}$ and $J_1,J_2,J_3$. The functions $\\mathrm{cn},\\mathrm{sn},\\mathrm{dn}$ are the so-called Jacobi elliptic functions and are periodic in time $t$. **Using this information alone, and ignoring the previous Lyapunov analysis, explain what can you conclude** about the asymptotic stability of the origin?\n\n## Solution for Prob. 2(b)\n(i) Let $V(\\omega_1,\\omega_2,\\omega_3)=\\frac{1}{2}\\left(J_1\\omega_1^2 + J_2\\omega_2^2 + J_3\\omega_3^2\\right)$ be the candidate Lyapunov function. Since $V(0,0,0)=0$ and $V>0$ for all $\\omega\\in\\mathbb{R}^{3}\\setminus\\{0\\}$, hence $V$ is a positive definite function of the state vector. Furthermore,\n$$\\dot{V} = \\left[J_{1}\\left(J_2 - J_3\\right)+J_{2}\\left(J_3 - J_1\\right)+J_{3}\\left(J_1 - J_2\\right)\\right]\\omega_1\\omega_2\\omega_3 = 0, \\quad\\text{for all}\\quad\\omega\\in\\mathbb{R}^{3}.$$\nTherefore, by Lyapunov's theorem, the **origin is stable (S)**. From this analysis, the **asymptotic stability of the origin remains inconclusive**.\n\n(ii) Since the flow is known to be time periodic, hence asymptotic convergence does not occur. Therefore, the origin is **not AS**.",
      "metadata": {}
    },
    {
      "cell_type": "markdown",
      "source": "## (c) [25 points] Global asymptotic stabilization using feedback control\n\nFor $i=1,2,3$, consider the state feedback control law $\\tau_i = -k_i\\omega_i$, where $k_i>0$ are constants. **Prove that** origin of the closed-loop system is globally asymptotically stable (GAS).\n\n## Solution of Prob. 2(c)\nThe closed-loop dynamics becomes\n\\begin{align*}\nJ_{1}\\dot{\\omega}_{1} &= \\left(J_{2} - J_{3}\\right)\\omega_{2}\\omega_{3} -k_1\\omega_{1},\\\\\nJ_{2}\\dot{\\omega}_{1} &= \\left(J_{3} - J_{1}\\right)\\omega_{3}\\omega_{1} -k_2\\omega_{2},\\\\\nJ_{3}\\dot{\\omega}_{3} &= \\left(J_{1} - J_{2}\\right)\\omega_{1}\\omega_{2} -k_3\\omega_{3},\n\\end{align*}\nand using the same Lyapunov function as in part (b), we now get $\\dot{V} = -\\displaystyle\\sum_{i=1}^{3}k_{i}\\omega_{i}^{2} < 0$ for all $\\omega\\in\\mathbb{R}^{3}\\setminus\\{0\\}$. This shows that the origin of the closed-loop system is AS but whether that is \"global\" or not, remains to be proved.\n\nTo establish \"global\", we note first that the origin is indeed the unique fixed point since for $i=1,2,3$, multiplying the $i$th fixed point equation by $\\omega_i$, then summing the resulting equations, we get $\\displaystyle\\sum_{i=1}^{3}k_{i}\\omega_i^2 = 0$, $k_i>0$, which is possible iff $\\omega_1^{∗} = \\omega_2^{*} = \\omega_3^{*} = 0$. Furthermore, our choice of $V$ as positively weighted sum-of-squares, is radially unbounded. Hence by Barbashin-Krasovskii theorem, the origin of the closed-loop system is GAS.",
      "metadata": {}
    }
  ]
}