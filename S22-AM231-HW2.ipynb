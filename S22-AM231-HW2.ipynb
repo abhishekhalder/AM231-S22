{
  "metadata": {
    "language_info": {
      "name": ""
    },
    "kernelspec": {
      "name": "",
      "display_name": ""
    }
  },
  "nbformat_minor": 4,
  "nbformat": 4,
  "cells": [
    {
      "cell_type": "markdown",
      "source": "# Problem 1 [40 points] Lyapunov stability for a non-autonomous nonlinear system\n\nConsider the continuous-time non-autonomous system\n\n$$\\begin{align*}\n\\dot{x}_{1} &= -x_{1} - g(t)x_{2},\\\\\n\\dot{x}_{2} &= x_{1} - x_{2},\n\\end{align*}\n$$\n\nwhere the state vector $(x_1,x_2)^{\\top}\\in\\mathbb{R}^{2}$. The function $g(t)$ is $C^{1}$ in time $t$, satisfies $0 \\leq g(t) \\leq k$ for some constant $k$, and $\\dot{g}(t) \\leq g(t)$ for all $t\\geq 0$.",
      "metadata": {}
    },
    {
      "cell_type": "markdown",
      "source": "## (a) [10 points] Fixed point\n\n**Prove that** the origin $(0,0)^{\\top}$ is a fixed point. ",
      "metadata": {}
    },
    {
      "cell_type": "markdown",
      "source": "## (b) [30 points] Origin is GES\n\nUse the Lyapunov function $V(t,x_1,x_2) := x_1^2 + (1 + g(t))x_2^2$ to **prove that** the origin is globally exponentially stable (GES).\n\n(**Hint:** Lec. 5, p. 3).",
      "metadata": {}
    },
    {
      "cell_type": "markdown",
      "source": "# Problem 2 [60 points] Lyapunov stability for a rotating rigid spacecraft\n\nThe controlled dynamics for a rotating rigid spacecraft is given by the Euler equation\n\n\\begin{align*}\nJ_{1}\\dot{\\omega}_{1} = \\left(J_{2} - J_{3}\\right)\\omega_{2}\\omega_{3} + \\tau_{1},\\\\\n    J_{2}\\dot{\\omega}_{1} = \\left(J_{3} - J_{1}\\right)\\omega_{3}\\omega_{1} + \\tau_{2},\\\\\n    J_{3}\\dot{\\omega}_{3} = \\left(J_{1} - J_{2}\\right)\\omega_{1}\\omega_{2} + \\tau_{3},\n\\end{align*}\nwhere the parameters $J_1,J_2,J_3>0$ denote the principal moments of inertia; the state vector $(\\omega_1,\\omega_2,\\omega_3)^{\\top}\\in\\mathbb{R}^{3}$ denotes the spacecraft’s angular velocity (in rad/s) along its principal axes; and the control vector $(\\tau_1,\\tau_2,\\tau_3)^{\\top}$ denotes the torque input applied about the principal axes.",
      "metadata": {}
    },
    {
      "cell_type": "markdown",
      "source": "## (a) [2 + (2 + 6) = 10 points] Fixed points in the absence of control\n\nSuppose that the controls $\\tau_1 = \\tau_2 = \\tau_3 \\equiv 0$.\n\n(i) **Argue that** origin is a fixed point.\n\n(ii) **How many fixed points other than origin** are there? **Explain what physical motions** do these non-origin fixed points correspnd to?",
      "metadata": {}
    },
    {
      "cell_type": "markdown",
      "source": "## (b) [(10 + 5) + 10 = 25] S/AS in the absence of control\n\nAs in part (a), assume that the controls $\\tau_1 = \\tau_2 = \\tau_3 \\equiv 0$.\n\n(i) By constructing a suitable Lyapunov function, **prove that** the origin is stable (S). From this analysis, **what can you conclude** about the asymptotic stability (AS) of the origin?\n\n(ii) Given initial conditions $(\\omega_{10},\\omega_{20},\\omega_{30})^{\\top}$ and parameters $J_1 \\neq J_2 \\neq J_3$, it is possible to explicitly solve for the flow (still assuming $\\tau_1 = \\tau_2 = \\tau_3 = 0$) as\n\\begin{align*}\n\\omega_1(t) = \\overline{\\omega}_{10} \\mathrm{cn}\\left(\\omega_{p}t + \\varepsilon, m\\right),\\\\\n\\omega_2(t) = \\overline{\\omega}_{20} \\mathrm{sn}\\left(\\omega_{p}t + \\varepsilon, m\\right),\\\\\n\\omega_3(t) = \\overline{\\omega}_{30} \\mathrm{dn}\\left(\\omega_{p}t + \\varepsilon, m\\right),\n\\end{align*}\nwhere $\\overline{\\omega}_{10},\\overline{\\omega}_{20},\\overline{\\omega}_{30},\\omega_{p},\\varepsilon,m$ depend only on $(\\omega_{10},\\omega_{20},\\omega_{30})^{\\top}$ and $J_1,J_2,J_3$. The functions $\\mathrm{cn},\\mathrm{sn},\\mathrm{dn}$ are the so-called Jacobi elliptic functions and are periodic in time $t$. **Using this information alone, and ignoring the previous Lyapunov analysis, explain what can you conclude** about the asymptotic stability of the origin?",
      "metadata": {}
    },
    {
      "cell_type": "markdown",
      "source": "## (c) [25 points] Global asymptotic stabilization using feedback control\n\nFor $i=1,2,3$, consider the state feedback control law $\\tau_i = k_i\\omega_i$, where $k_i>0$ are constants. **Prove that** origin of the closed-loop system is globally asymptotically stable (GAS).",
      "metadata": {}
    }
  ]
}