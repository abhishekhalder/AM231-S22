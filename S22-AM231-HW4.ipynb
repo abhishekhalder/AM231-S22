{
  "metadata": {
    "language_info": {
      "codemirror_mode": {
        "name": "python",
        "version": 3
      },
      "file_extension": ".py",
      "mimetype": "text/x-python",
      "name": "python",
      "nbconvert_exporter": "python",
      "pygments_lexer": "ipython3",
      "version": "3.8"
    },
    "kernelspec": {
      "name": "python",
      "display_name": "Pyolite",
      "language": "python"
    }
  },
  "nbformat_minor": 4,
  "nbformat": 4,
  "cells": [
    {
      "cell_type": "markdown",
      "source": "# Problem 1 [60 points] Lyapunov analysis for unforced and forced systems",
      "metadata": {}
    },
    {
      "cell_type": "markdown",
      "source": "## (a) [15 + 15 = 30 points] Asymptotic stability for the unforced system\n\n(i) Consider the nonlinear system\n$$\\dot{x}_{1} = x_{2}, \\qquad \\dot{x}_{2} = -h_{1}(x_1) - h_2(x_2),$$\nwhere for $i=1,2$, the functions $h_{i}(\\cdot)$ are locally Lipschitz, $h_{i}(0)=0$ and $yh_{i}(y) > 0 \\;\\forall\\:y\\in(-a,a)$ for some nonzero real constant $a$. Clearly, the origin is a fixed point but there may be more fixed points depending on the nonlinear functions $h_{i}(\\cdot)$. **Prove that** the origin is AS.\n\nTo do this, motivated by the pendulum example in Lec. 3, p. 13-14 and Lec. 4, p. 1-2, consider the Lyapunov function $V(x_1,x_2) = \\int_{0}^{x_1}h_1(y)\\:{\\rm{d}}y + \\frac{1}{2}x_2^2$. This Lyapunov function can be thought of as a generalized energy: the intergal term is a generalized potential energy and the second summand is a generalized kinetic energy. You may need to use the LaSalle invariance.\n\n(ii) Let us consider a specific instance of the above given by\n$$\\dot{x}_{1} = x_{2}, \\qquad \\dot{x}_{2} = -\\alpha x_1^3 - \\beta x_2, \\qquad \\alpha,\\beta>0.$$\n**Prove that** the origin for this system is in fact GAS.",
      "metadata": {}
    },
    {
      "cell_type": "markdown",
      "source": "## (b) [30 points] Finite gain $\\mathcal{L}_{2}$ stability for the forced system\n\nNow consider the forced system in input-output form given by\n$$\\dot{x}_{1} = x_{2}, \\qquad \\dot{x}_{2} = -\\alpha x_1^3 - \\beta x_2 + u, \\qquad \\alpha,\\beta>0, \\qquad y=x_2.$$\n\nUse Lec. 10, p. 1-2 to **prove that** the above system is finite gain $\\mathcal{L}_2$ stable **by deriving an upper bound on $\\mathcal{L}_2$ gain in terms of parameters $\\alpha,\\beta$**. \n\n(**Hint:** to use the Hamilton-Jacobi inequality theorem in Lec. 10, p. 1-2, choose the function $V$ to be a positive scaling of the Lyapunov function in part (a). This will lead to an inequality involving the gain upper bound $\\gamma$, the scaling and the parameters. Requiring $\\gamma$ to be smallest will yield the optimal scaling.)",
      "metadata": {}
    },
    {
      "cell_type": "markdown",
      "source": "# Problem 2 [40 points] $\\mathcal{L}_{p}$ gain for composition\n\nIn Lec. 10, p. 3-4, we stated that the finite gain $\\mathcal{L}_{p}$ stability is preserved under series and parrallel compositions of the subsystems. **Prove the same by deriving $\\mathcal{L}_{p}$ gain upper bound for the overall system in terms of the $\\mathcal{L}_{p}$ gain upper bounds for the subsystems**.",
      "metadata": {}
    }
  ]
}