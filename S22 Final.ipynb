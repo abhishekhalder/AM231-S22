{
  "metadata": {
    "kernelspec": {
      "name": "python",
      "display_name": "Pyolite",
      "language": "python"
    },
    "language_info": {
      "codemirror_mode": {
        "name": "python",
        "version": 3
      },
      "file_extension": ".py",
      "mimetype": "text/x-python",
      "name": "python",
      "nbconvert_exporter": "python",
      "pygments_lexer": "ipython3",
      "version": "3.8"
    }
  },
  "nbformat_minor": 4,
  "nbformat": 4,
  "cells": [
    {
      "cell_type": "markdown",
      "source": "# Problem 1 [50 points] Modeling and controllability\n\n<br />\n<img src=\"Trailer.png\" width=\"700\">\n<center>Figure 1: A car with multiple direct-hooked passive trailers.</center>\n\nConsider a car with $n\\in\\mathbb{N}$ direct-hooked passive trailers, which you may have seen in the airports carrying passenger luggage (Fig. 1). To mathematically model this system, we represent both the car and the trailers as having two driving wheels connected by an axle, as shown in Fig. 2.\n<img src=\"TarilerModel.png\" width=\"700\">\n<center>Figure 2: Model of a car with $n$ trailers. The inertial coordinate system is denoted as $(i_x,i_y)$.</center>\n<br />\nEach trailer is hooked up in the middle point of the axle of the previous body by a rigid bar of length $\\ell = 1$. To describe the state, we fix an inertial coordinate system, shown in the left bottom corner of Fig. 2. Notice that the connecting rod is parallel to the wheels since the rod + axle for any trailer is a rigid assembly.\n\nSuppose $(x, y)$ is the coordinate of the mid-point of the axle of the last trailer; $\\theta_n$ is the angle that the car’s pair of wheels make with the inertial horizontal axis; and $\\theta_{i}$, $0\\leq i \\leq n − 1$, is the angle that the $(n − i)$-th trailer’s pair of wheels make with the inertial horizontal axis. The state vector of the system is\n\n$$\\underline{x} := \\left(x,y,\\theta_{0},\\theta_{1}, ..., \\theta_{n}\\right)^{\\top}.$$\n\nThe control vector consists of the car’s translational velocity $v$ and angular velocity $\\omega$, i.e., $\\underline{u} := (v, \\omega)^{\\top}$.\n\nThe wheels of each body (1 car and $n$ trailers) are constrained to roll without slipping, i.e., the velocity of each body is parallel to the direction of its wheels. Let $f_{n} := 1$, and\n$$\nf_{i}:=\\cos \\left(\\theta_{i+1}-\\theta_{i}\\right) \\cos \\left(\\theta_{i+2}-\\theta_{i+1}\\right) \\ldots \\cos \\left(\\theta_{n}-\\theta_{n-1}\\right)=\\prod_{j=i+1}^{n} \\cos \\left(\\theta_{j}-\\theta_{j-1}\\right), \\quad 0 \\leq i \\leq n-1.\n$$",
      "metadata": {}
    },
    {
      "cell_type": "markdown",
      "source": "## (a) [3 points] State space\n\n**Clearly write down** the state space $\\mathcal{X}$ as a manifold. **Explain** your answer.",
      "metadata": {}
    },
    {
      "cell_type": "markdown",
      "source": "## (b) [25 points] Standard control affine form\n\n**Prove that** the control system corresponding to the above model can be expressed in the drift-free form:\n\n$$\n\\underline{\\dot{x}}=g_{1}(\\underline{x}) u_{1}+g_{2}(\\underline{x}) u_{2},\n$$\nwhere the input vector fields are\n\n$$\\begin{align*}\ng_{1}(\\underline{x}) &= \\left[f_{0} \\cos \\theta_{0}, f_{0} \\sin \\theta_{0}, f_{1} \\sin \\left(\\theta_{1}-\\theta_{0}\\right), \\ldots, f_{i+1} \\sin \\left(\\theta_{i+1}-\\theta_{i}\\right), \\ldots, f_{n} \\sin \\left(\\theta_{n}-\\theta_{n-1}\\right), 0\\right]^{\\top},\\\\\ng_{2}(\\underline{x}) &= [\\underbrace{0, \\ldots, 0}_{(n+2) \\text { times }}, 1]^{\\top}.\n\\end{align*}$$",
      "metadata": {}
    },
    {
      "cell_type": "markdown",
      "source": "## (c) [20 points] The case $n=1$\n\nFor the special case of $n = 1$, i.e., the car with one trailer (for example, garbage truck, fire truck etc.), **prove that** the system is globally controllable.",
      "metadata": {}
    },
    {
      "cell_type": "markdown",
      "source": "## (d) [2 points] Degree of nonholonomy\n\nWhat is the degree of nonholonomy for the case in part (c)? **Give reasons**.",
      "metadata": {}
    }
  ]
}