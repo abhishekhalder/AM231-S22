{
  "metadata": {
    "language_info": {
      "codemirror_mode": {
        "name": "python",
        "version": 3
      },
      "file_extension": ".py",
      "mimetype": "text/x-python",
      "name": "python",
      "nbconvert_exporter": "python",
      "pygments_lexer": "ipython3",
      "version": "3.8"
    },
    "kernelspec": {
      "name": "python",
      "display_name": "Pyolite",
      "language": "python"
    }
  },
  "nbformat_minor": 4,
  "nbformat": 4,
  "cells": [
    {
      "cell_type": "markdown",
      "source": "# Problem 1 [100 points] Feedback Linearization\n\nConsider the dynamics of one-link robotic arm, given by\n\\begin{align*}\nJ_{1}\\ddot{q}_{1} + F_{1}\\dot{q}_{1} + \\frac{K}{N}\\left(q_2 - \\frac{q_1}{N}\\right) &= \\tau,\\\\\nJ_{2}\\ddot{q}_{2} + F_{2}\\dot{q}_{2} + K\\left(q_2 - \\frac{q_1}{N}\\right) &= -mgd\\cos q_2,\n\\end{align*}\nwhere $q_1,q_2$ denote angular positions (in rad), and $\\tau$ denotes the actuation torque. The parameters $\\{J_i,F_i\\}_{i=1}^{2}$ respectively denote the moments of inertia and rotational damping coeffcients of the actuator shaft (for $i=1$) and the link (for $i=2$), respectively. The parameters $K,N,m,d$ denote the torsional spring constant, the transmission gear ratio, mass of the link, and distance of the center of gravity of the link from a fixed frame of reference, respectively. The **state vector** is $x:=(q_1,q_2,\\dot{q}_1,\\dot{q}_2)^{\\top}\\in [0,2\\pi)^{2}\\times\\mathbb{R}^{2}$ and the **control input** is $u:=\\tau\\in\\mathbb{R}$.",
      "metadata": {}
    },
    {
      "cell_type": "markdown",
      "source": "## (a) [(5+5) + 20 = 30 points] Deciding feedback linearizability\n\n(i) Write the dynamics of the robotic arm in **standard control-affine form** $\\dot{x} = f(x) + g(x) u$, i.e., **explicitly write** the drift vector field $f(x)$ and the input vector field $g(x)$, both of size $4\\times 1$, in terms of the state components $x_1, x_2,x_3,x_4$ and the parameters.\n\n(ii) Determine the region in the state space $[0,2\\pi)^{2}\\times\\mathbb{R}^{2}$, over which this system is full state static feedback linearizable. (**Hint:** use Lec. 16 p. 11, also Step 1 in p. 12.)",
      "metadata": {}
    },
    {
      "cell_type": "markdown",
      "source": "## (b) [10 + 10 = 20 points] Finding $\\lambda(x)$ and $r$\n\n(i) **Show that** the scalar field $\\lambda(x)$ in the Theorem given in Lec. 16 p. 10, for this system, can be taken as $\\lambda(x)=x_2$. (**Hint:** use Lec. 16 p. 13, Step 2.)\n\n(ii) **By directly computing the relative degree** $r$ (a positive integer), **prove that** the state equation derived in part (a)(i), augmented with the output equation $y=\\lambda(x)=x_2$, indeed has relative degree 4, that is, satisfies the $r=n$ condition in the region determined in part (a)(ii). (**Hint:** use Lec. 15 p. 12 for computing the relative degree)",
      "metadata": {}
    },
    {
      "cell_type": "markdown",
      "source": "## (c) [(5+5+5+5) + 5 + 25 = 50 points] Normal form and closed loop simulation\n\n(i) Use the Steps 3 and 4 in Lec. 16 p. 14-15 to **derive the feedback linearizing tuple** $(\\tau(\\cdot),\\alpha(\\cdot),\\beta(\\cdot))$. **Also clearly write down** the control system in the feedback linearized coordinates with the new $4\\times 1$ state vector $z$ and the new control $v\\in\\mathbb{R}$, where $z:=\\tau(x)$ and $u=\\alpha(x)+\\beta(x)v$.\n\n(ii) Give physical interpretation of the components of the vector $z$ (think of their units). \n\n(iii) **Use a simple pole placement controller** $v=k^{\\top}z$ where $k:=(k_1,k_2,k_3,k_4)^{\\top}\\in\\mathbb{R}^{4}$ to stabilize the feedback linearized states to the origin. For this stablizing controller, **submit the plots** for $x_1,x_2,x_3,x_4,u$ versus time $t=0:0.01:5$ with initial condition $x(t=0)=(\\pi/6, \\pi/3, 1, 2)^{\\top}$. (**Hint:** recall that over the region in which the system is feedback linearizable, the map $\\tau$ must be a diffeomorphism, and $x=\\tau^{-1}(z)$)",
      "metadata": {}
    }
  ]
}