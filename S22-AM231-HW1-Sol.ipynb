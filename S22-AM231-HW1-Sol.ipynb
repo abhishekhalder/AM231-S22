{
  "metadata": {
    "kernelspec": {
      "name": "python",
      "display_name": "Pyolite",
      "language": "python"
    },
    "language_info": {
      "codemirror_mode": {
        "name": "python",
        "version": 3
      },
      "file_extension": ".py",
      "mimetype": "text/x-python",
      "name": "python",
      "nbconvert_exporter": "python",
      "pygments_lexer": "ipython3",
      "version": "3.8"
    }
  },
  "nbformat_minor": 4,
  "nbformat": 4,
  "cells": [
    {
      "cell_type": "markdown",
      "source": "# Problem 1 [50 points] Computer-controlled continuous-time LTI system\n\nConsider a continuous-time linear time invariant (LTI) system \n\n$$\\dot{x} = A x + B u, \\quad x\\in\\mathbb{R}^{n},\\quad u\\in\\mathbb{R}^{m}, \\quad x(t=0)=x_{0},$$\n\nwhere a digital computer supplies the control signal $u(t)$ with sampling period $h>0$. Consequently, \n\n$$u(t) \\equiv u(k) := u(t=kh)\\quad\\forall t\\in[kh,(k+1)h), \\quad k=0,1,2,...$$\n\nThis makes the control input $u$ a piecewise constant function of the time $t$.",
      "metadata": {}
    },
    {
      "cell_type": "markdown",
      "source": "## (a) [20 points] Equivalent discrete-time LTI system\n\n**Prove that** the control system above is equivalent to a discrete-time LTI system of the form\n\n$$x(k+1) = A_{\\rm{d}} x(k) + B_{\\rm{d}} u(k), \\quad x(k) = x_{0}, \\quad k=0,1,2,...$$\n\nIn other words, derive the matrices $A_{\\rm{d}}\\in\\mathbb{R}^{n\\times n}, B_{\\rm{d}}\\in\\mathbb{R}^{n\\times m}$ as function of the original system matrices $A,B$ and the sampling period $h>0$.\n\n(**Hint:** The solution of the ODE $\\dot{x}=Ax+Bu$ with initial condition $x(t=0)=x_{0}$, is $x(t) = e^{At}x_{0} + \\int_{0}^{t}e^{A(t-\\tau)}B u(\\tau){\\rm{d}}\\tau$. Then use the fact that $x(k):=x(t=kh)$ etc.)\n\n## Solution for Prob. 1(a)\n\nWe have \n\\begin{align*}\nx(k+1):=x(t=(k+1)h) &= e^{A(k+1)h}x_{0} + \\int_{0}^{(k+1)h}e^{A((k+1)h-\\tau)}Bu(\\tau)\\:{\\rm{d}}\\tau\\\\\n&= e^{Ah}e^{Akh}x_{0} + e^{Ah}\\int_{0}^{kh}e^{A(kh-\\tau)}Bu(\\tau)\\:{\\rm{d}}\\tau + \\int_{kh}^{(k+1)h}e^{A((k+1)h-\\tau)}Bu(k)\\:{\\rm{d}}\\tau\\\\\n&= e^{Ah} x(k) + \\int_{kh}^{(k+1)h}e^{A((k+1)h-\\tau)}Bu(\\tau)\\:{\\rm{d}}\\tau.\n\\end{align*}\nLet $\\sigma := (k+1)h-\\tau$. Then ${\\rm{d}}\\sigma = -{\\rm{d}}\\tau$. Also, $\\tau=kh\\:\\Rightarrow\\:\\sigma=h$, and $\\tau=(k+1)h\\:\\Rightarrow\\:\\sigma=0$. Thus the integral\n$$\\int_{kh}^{(k+1)h}e^{A((k+1)h-\\tau)}Bu(k)\\:{\\rm{d}}\\tau = \\left(-\\int_{h}^{0}e^{A\\sigma}{\\rm{d}}\\sigma\\right)B u(k) = \\left(\\int_{0}^{h}e^{A\\sigma}{\\rm{d}}\\sigma\\right)B u(k).$$\nLetting $A_{\\rm{d}}:=e^{Ah}$ and $B_{\\rm{d}}:=\\left(\\int_{0}^{h}e^{A\\sigma}{\\rm{d}}\\sigma\\right)B$, we arrive at $x(k+1) = A_{\\rm{d}} x(k) + B_{\\rm{d}} u(k)$ as desired.",
      "metadata": {}
    },
    {
      "cell_type": "markdown",
      "source": "## (b) [30 points] Stability of the unforced system\n\nSuppose that the input $u(t)\\equiv 0$ for all $t\\geq 0$, and that the matrix $A$ is diagonalizable and Hurwitz (all eigenvalues in the open left half plane). From Lec. 1, p. 6, this implies that the original unforced system $\\dot{x}=Ax$ is continuous-time S/AS/GAS. \n\nDoes this also imply that the sampled unforced system $x(k+1) = A_{\\rm{d}} x(k)$ is discrete-time S/AS/GAS? **Use your answer in part (a) to give mathematical reasoning to support your answer**.\n\n## Solution for Prob. 1(b)\nLet $\\lambda_{i}\\equiv \\alpha_{i} \\pm j\\beta_{i}$ where $j:=\\sqrt{-1}$ for $i\\in[n]$, denote the eigenvalues of $A$. Let $\\left(\\lambda_{\\rm{d}}\\right)_{i}$ for $i\\in[n]$ denote the eigenvalues of $A_{\\rm{d}}$.\n\nSince $A$ is diagonalizable, from part (a) we have $\\left(\\lambda_{\\rm{d}}\\right)_{i} = e^{h\\lambda_{i}}$ for all $i\\in[n]$. This gives\n$$\\big\\vert\\left(\\lambda_{\\rm{d}}\\right)_{i}\\big\\vert = e^{h\\alpha_{i}}\\big\\vert e^{\\pm h\\beta_{i}}\\big\\vert = e^{h\\alpha_{i}} \\quad \\forall i\\in[n].$$\nBecause $A$ is Hurwitz, we have $\\alpha_{i} < 0$ for all $i\\in[n]$. Thus, for any sampling period $h>0$, we obtain $\\big\\vert\\left(\\lambda_{\\rm{d}}\\right)_{i}\\big\\vert = e^{h\\alpha_{i}} < 1$, and hence the matrix $A_{\\rm{d}}$ is Schur-Cohn stable (all eig. values strictly within the unit disc). Therefore, the (origin of the) discrete-time LTI system $x(k+1) = A_{\\rm{d}} x(k)$ is S/AS/GAS.",
      "metadata": {}
    },
    {
      "cell_type": "markdown",
      "source": "# Problem 2 [50 points] Lyapunov analysis in discrete-time\n\nFor discrete-time autonomous nonlinear system $x(k+1)=f(x(k))$, $k=0,1,2,...$, one can derive a Lyapunov stability theorem analogous to the continuous-time case, by simply replacing the condition $\\dot{V}<$ (or $\\leq$) $0$ to its discrete-time counterpart: $V(k+1)<$ (or $\\leq$) $V(k)$, where $V(k):=V(x(k))$, while keeping the other conditions (positive definiteness/semi-definiteness) same. With this modification, related theorems such as Barbashin-Krasovskii and LaSalle apply.\n\nConsider the following 2D nonlinear system\n\n$$x_{1}(k+1) = \\dfrac{\\alpha x_{2}(k)}{1 + \\left(x_{1}(k)\\right)^{2}}, \\qquad x_{2}(k+1) = \\dfrac{\\beta x_{1}(k)}{1 + \\left(x_{2}(k)\\right)^{2}}, \\qquad 0< \\alpha^2 < 1, \\quad 0 < \\beta^2 < 1.$$",
      "metadata": {}
    },
    {
      "cell_type": "markdown",
      "source": "## (a) [5 + 15 = 20 points] Fixed point\n\n(i) **Prove that** origin is a fixed point. \n\n(ii) **Prove that** origin is in fact the **unique** fixed point.\n\n## Solution for prob. 2(a)\n(i) The substitution $(x_1^{*},x_2^{*})=(0,0)$ satisfies the fixed point equations\n$$x_{1}^* = \\dfrac{\\alpha x_{2}^*}{1 + \\left(x_{1}^*\\right)^{2}}, \\qquad x_{2}^* = \\dfrac{\\beta x_{1}^*}{1 + \\left(x_{2}^*\\right)^{2}}.$$\nTherefore, origin is a fixed point.\n\n(ii) To show uniqueness, notice that any fixed point $(x,y)$ needs to satisfy\n$$x=\\frac{\\alpha y}{1+x^{2}} \\Rightarrow x+x^{3}=\\alpha y, \\quad \\text { and } \\quad y=\\frac{\\beta x}{1+y^{2}} \\Rightarrow \\beta x=y+y^{3}.$$\nFrom the second equation, we get $x=\\frac{1}{\\beta}\\left(y+y^{3}\\right)$, which upon substituting into the first results in a polynomial equation in $y$, given by\n$$y\\left\\{\\frac{1}{\\beta^{3}} y^{8}+\\frac{3}{\\beta^{3}} y^{6}+\\frac{3}{\\beta^{3}} y^{4}+\\left(\\frac{1}{\\beta^{3}}+\\frac{1}{\\beta}\\right) y^{2}+\\left(\\frac{1}{\\beta}-\\alpha\\right)\\right\\}=0.$$\nThe only possible real root of the above is $y=0$ since the polynomial factor in curly braces is a sum of even powered monomials with positive coefficients, and hence (by DesCartes’ rule of sign) does not admit any real root. Now $y=0$ implies $x=\\frac{1}{\\beta}\\left(0+0^{3}\\right)=0$. Hence origin is the unique fixed point. ",
      "metadata": {}
    },
    {
      "cell_type": "markdown",
      "source": "## (b) [20 points] AS\n\n**Prove that** the origin is asymptotically stable (AS).\n\n## Solution for Prob. 2(b)\nLet us choose the Lyapunov function $V(x_1,x_2)=x_1^2 + x_2^2$ which is a positive definite function in $\\mathbb{R}^{2}$. Now\n\\begin{align*}\nV(k+1)-V(k) &=\\frac{\\alpha^{2}\\left(x_{2}(k)\\right)^{2}}{\\left(1+\\left(x_{1}(k)\\right)^{2}\\right)^{2}}+\\frac{\\beta^{2}\\left(x_{1}(k)\\right)^{2}}{\\left(1+\\left(x_{2}(k)\\right)^{2}\\right)^{2}}-\\left(x_{1}(k)\\right)^{2}-\\left(x_{2}(k)\\right)^{2}, \\\\\n&=\\left(\\frac{\\alpha^{2}}{\\left(1+\\left(x_{1}(k)\\right)^{2}\\right)^{2}}-1\\right)\\left(x_{2}(k)\\right)^{2}+\\left(\\frac{\\beta^{2}}{\\left(1+\\left(x_{2}(k)\\right)^{2}\\right)^{2}}-1\\right)\\left(x_{1}(k)\\right)^{2}, \\\\\n& \\leq\\left(\\alpha^{2}-1\\right)\\left(x_{2}(k)\\right)^{2}+\\left(\\beta^{2}-1\\right)\\left(x_{1}(k)\\right)^{2},\n\\end{align*}\nwhich is $<0$ for all $x\\in\\mathbb{R}^{2}\\setminus \\{0\\}$ since $0<\\alpha^{2}<1,0<\\beta^{2}<1$, and is $=0$ for vector $x=0\\in\\mathbb{R}^{2}$. Let $\\mathcal{S}$ be the set of $(x_1,x_2)$ such that $V(k+1)-V(k)=0$. In this case, $\\mathcal{S}=\\{(0,0)\\}$ is singleton, and no solution $(x_1,x_2)$ can stay identically in $\\mathcal{S}$ other than the trivial solution $(0,0)$. Therefore, by LaSalle invariance theorem, the origin is AS.",
      "metadata": {}
    },
    {
      "cell_type": "markdown",
      "source": "## (c) [10 points] GAS\n\nIs the origin globally asymptotically stable (GAS)? **Why/why not?**\n\n## Solution for Prob. 2(c)\nSince our choice of Lyapunov function $V(x_1,x_2)=x_1^2+x_2^2=r^2$ is radially unbounded, and we have already shown that the origin is unique fixed point (in part (a)), and that it is AS (in part (b)), hence by Barbasin-Krasovskii theorem, we can conclude that the origin is GAS.",
      "metadata": {}
    }
  ]
}