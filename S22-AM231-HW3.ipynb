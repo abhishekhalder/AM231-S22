{
  "metadata": {
    "language_info": {
      "codemirror_mode": {
        "name": "python",
        "version": 3
      },
      "file_extension": ".py",
      "mimetype": "text/x-python",
      "name": "python",
      "nbconvert_exporter": "python",
      "pygments_lexer": "ipython3",
      "version": "3.8"
    },
    "kernelspec": {
      "name": "python",
      "display_name": "Pyolite",
      "language": "python"
    }
  },
  "nbformat_minor": 4,
  "nbformat": 4,
  "cells": [
    {
      "cell_type": "markdown",
      "source": "# Problem 1. [50 points] Lyapunov techniques for estimating ROA\n\nConsider the following nonlinear system with state vector $(x_1,x_2)\\in\\mathbb{R}^{2}$, given by\n$$\\dot{x}_{1} = x_{2}, \\quad \\dot{x}_{2} = -x_{1} - x_{2} + x_{1}^{3}.$$",
      "metadata": {}
    },
    {
      "cell_type": "markdown",
      "source": "## (a) [10 points] Fixed points\nFind all isolated fixed points. Show all your calculations.",
      "metadata": {}
    },
    {
      "cell_type": "markdown",
      "source": "## (b) [10 + 10 = 20 points] Origin is AS\n\n(i) Using the Lyapunov function $V(x_1,x_2)= \\frac{1}{2}x_{2}^{2} + \\int_{0}^{x_{1}}(y-y^3){\\rm{d}}y$, **prove that** the origin is AS. You may need to use the LaSalle invariance.\n\n(ii) **Make a 3d surface plot** of the above Lyapunov function $V$ over the domain $[-2,2]^{2}$ along with the contour/level set plots of $V$ in the plane over the same domain. It will be helpful to make the surface plot somewhat transparent.",
      "metadata": {}
    },
    {
      "cell_type": "markdown",
      "source": "## (c) [15 + 5 = 20 points] ROA estimation\n\n(i) Use the Lyapunov function in part (b) to **estimate the ROA for the origin**.\n\n(ii) **Make a 2d plot of your estimated ROA** in the state space.",
      "metadata": {}
    },
    {
      "cell_type": "markdown",
      "source": "# Problem 2. [50 points] Lyapunov stability for continuous time LTI system\n\nConsider the LTI system $\\dot{x}=Ax$ where $x\\in\\mathbb{R}^{n}$. Recall that the origin is GAS if and only if the matrix $A$ is Hurwitz (i.e., all its eigenvalues lie in the open left-half of the complex plane). In this exercise, we revisit the LTI stability from the Lyapunov viewpoint.",
      "metadata": {}
    },
    {
      "cell_type": "markdown",
      "source": "## (a) [10 + 10 = 20 points] Lyapunov matrix inequality and equation\n\n(i) Use the Lyapunov function $V(x) = x^{\\top}Px$ to **prove that** the LTI system is GAS provided the following two matrix inequalities are simultaneously satisfied:\n$$P \\succ 0, \\quad \\mathcal{L}(P):=A^{\\top}P + PA \\prec 0.$$\nThe latter inequality is called the \"Lyapunov matrix inequality\".\n\n(ii) **Argue that** the condition $\\mathcal{L}(P) \\prec 0$ is equivalent to the statement: for any $Q \\succ 0$, there exists $P \\succ 0$ that solves the linear matrix equation $\\mathcal{L}(P) = -Q$. This equation is called the \"Lyapunov matrix equation\".",
      "metadata": {}
    },
    {
      "cell_type": "markdown",
      "source": "## (b) [10 + 10 = 20 points] $A$ Hurwitz $\\Rightarrow$ Unique solution for Lyapunov matrix equation\n\nYou have shown in part (a) that existence of solution for the Lyapunov matrix equation (equivalently, Lyapunov matrix inequality) $\\Rightarrow$ GAS $\\Leftrightarrow$ $A$ Hurwitz. **Now prove the converse:** if $A$ is Hurwitz then for any $Q\\succ 0$, there exists **unique** $P\\succ 0$ that solves $\\mathcal{L}(P)=-Q$.\n\n(**Hint:** prove existence by construction. Prove uniqueness by contradiction.)",
      "metadata": {}
    },
    {
      "cell_type": "markdown",
      "source": "## (c) [10 points] Monotonicity of the solution of Lyapunov matrix equation\n\nFor an LTI system with $A$ Hurwitz, **prove that** if $Q_1 \\succ Q_2$ then $P_1 \\succ P_2$. (The converse is false but you don't need to prove that).",
      "metadata": {}
    }
  ]
}